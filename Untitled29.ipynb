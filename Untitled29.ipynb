{
 "cells": [
  {
   "cell_type": "code",
   "execution_count": 2,
   "metadata": {},
   "outputs": [
    {
     "ename": "UnsupportedOperation",
     "evalue": "not readable",
     "output_type": "error",
     "traceback": [
      "\u001b[1;31m---------------------------------------------------------------------------\u001b[0m",
      "\u001b[1;31mUnsupportedOperation\u001b[0m                      Traceback (most recent call last)",
      "\u001b[1;32m<ipython-input-2-5690a0639dd6>\u001b[0m in \u001b[0;36m<module>\u001b[1;34m\u001b[0m\n\u001b[0;32m      1\u001b[0m \u001b[0mfp\u001b[0m \u001b[1;33m=\u001b[0m \u001b[0mopen\u001b[0m\u001b[1;33m(\u001b[0m\u001b[1;34m\"E://test.txt\"\u001b[0m\u001b[1;33m,\u001b[0m\u001b[1;34m\"w\"\u001b[0m\u001b[1;33m)\u001b[0m\u001b[1;33m\u001b[0m\u001b[1;33m\u001b[0m\u001b[0m\n\u001b[1;32m----> 2\u001b[1;33m \u001b[0mfp\u001b[0m\u001b[1;33m.\u001b[0m\u001b[0mreadlines\u001b[0m\u001b[1;33m(\u001b[0m\u001b[1;33m)\u001b[0m\u001b[1;33m\u001b[0m\u001b[1;33m\u001b[0m\u001b[0m\n\u001b[0m",
      "\u001b[1;31mUnsupportedOperation\u001b[0m: not readable"
     ]
    }
   ],
   "source": [
    "fp = open(\"E://test.txt\",\"w\")\n",
    "fp.readlines()"
   ]
  },
  {
   "cell_type": "code",
   "execution_count": 3,
   "metadata": {},
   "outputs": [],
   "source": [
    "fp.close()"
   ]
  },
  {
   "cell_type": "code",
   "execution_count": 35,
   "metadata": {},
   "outputs": [],
   "source": [
    "fp = open(\"E://test.txt\")"
   ]
  },
  {
   "cell_type": "code",
   "execution_count": 36,
   "metadata": {},
   "outputs": [
    {
     "data": {
      "text/plain": [
       "0"
      ]
     },
     "execution_count": 36,
     "metadata": {},
     "output_type": "execute_result"
    }
   ],
   "source": [
    "fp.seek(0)"
   ]
  },
  {
   "cell_type": "code",
   "execution_count": 37,
   "metadata": {},
   "outputs": [],
   "source": [
    "data = fp.readlines()"
   ]
  },
  {
   "cell_type": "code",
   "execution_count": 38,
   "metadata": {},
   "outputs": [
    {
     "data": {
      "text/plain": [
       "['name\\troll\\tcity\\tmarks\\n',\n",
       " 'ram\\t101\\tjaipur\\t50\\n',\n",
       " 'shyam\\t102\\tdelhi\\t60\\n',\n",
       " 'ramesh\\t103\\tkota\\t80\\n',\n",
       " 'suresh\\t204\\tjaipur\\t40\\n',\n",
       " 'garima\\t105\\tpilani\\t90\\n',\n",
       " '\\n',\n",
       " 'diksha\\t106\\tpilani\\t99\\n']"
      ]
     },
     "execution_count": 38,
     "metadata": {},
     "output_type": "execute_result"
    }
   ],
   "source": [
    "data"
   ]
  },
  {
   "cell_type": "code",
   "execution_count": 39,
   "metadata": {},
   "outputs": [
    {
     "name": "stdout",
     "output_type": "stream",
     "text": [
      "Enter namecharvi\n",
      "Enter roll no : 107\n",
      "enter city : pilani\n",
      "Enter marks : 91\n"
     ]
    }
   ],
   "source": [
    "l = [input(\"Enter name\"),\n",
    "    input(\"Enter roll no : \"),\n",
    "    input(\"enter city : \"),\n",
    "    input(\"Enter marks : \")]\n"
   ]
  },
  {
   "cell_type": "code",
   "execution_count": 40,
   "metadata": {},
   "outputs": [
    {
     "data": {
      "text/plain": [
       "['charvi', '107', 'pilani', '91']"
      ]
     },
     "execution_count": 40,
     "metadata": {},
     "output_type": "execute_result"
    }
   ],
   "source": [
    "l"
   ]
  },
  {
   "cell_type": "code",
   "execution_count": 41,
   "metadata": {},
   "outputs": [],
   "source": [
    "d = \"\\n\"+(\"\\t\".join(l))"
   ]
  },
  {
   "cell_type": "code",
   "execution_count": 42,
   "metadata": {},
   "outputs": [],
   "source": [
    "data.append(d)"
   ]
  },
  {
   "cell_type": "code",
   "execution_count": 43,
   "metadata": {},
   "outputs": [],
   "source": [
    "fp.close()"
   ]
  },
  {
   "cell_type": "code",
   "execution_count": 44,
   "metadata": {},
   "outputs": [],
   "source": [
    "fp = open(\"E://test.txt\",\"w\")\n",
    "fp.writelines(data)"
   ]
  },
  {
   "cell_type": "code",
   "execution_count": 45,
   "metadata": {},
   "outputs": [],
   "source": [
    "fp.close()"
   ]
  },
  {
   "cell_type": "code",
   "execution_count": 46,
   "metadata": {},
   "outputs": [
    {
     "data": {
      "text/plain": [
       "<_io.TextIOWrapper name='E://test.txt' mode='w' encoding='cp1252'>"
      ]
     },
     "execution_count": 46,
     "metadata": {},
     "output_type": "execute_result"
    }
   ],
   "source": [
    "fp"
   ]
  },
  {
   "cell_type": "code",
   "execution_count": 48,
   "metadata": {},
   "outputs": [
    {
     "data": {
      "text/plain": [
       "1"
      ]
     },
     "execution_count": 48,
     "metadata": {},
     "output_type": "execute_result"
    }
   ],
   "source": [
    "import os\n",
    "os.system(\"ip addr\")"
   ]
  },
  {
   "cell_type": "code",
   "execution_count": 49,
   "metadata": {},
   "outputs": [],
   "source": [
    "data= os.popen(\"ipconfig\")"
   ]
  },
  {
   "cell_type": "code",
   "execution_count": 50,
   "metadata": {},
   "outputs": [
    {
     "name": "stdout",
     "output_type": "stream",
     "text": [
      "\n",
      "\n",
      "Windows IP Configuration\n",
      "\n",
      "\n",
      "\n",
      "\n",
      "\n",
      "Ethernet adapter Ethernet:\n",
      "\n",
      "\n",
      "\n",
      "   Media State . . . . . . . . . . . : Media disconnected\n",
      "\n",
      "   Connection-specific DNS Suffix  . : \n",
      "\n",
      "\n",
      "\n",
      "Wireless LAN adapter Local Area Connection* 1:\n",
      "\n",
      "\n",
      "\n",
      "   Media State . . . . . . . . . . . : Media disconnected\n",
      "\n",
      "   Connection-specific DNS Suffix  . : \n",
      "\n",
      "\n",
      "\n",
      "Wireless LAN adapter Local Area Connection* 2:\n",
      "\n",
      "\n",
      "\n",
      "   Media State . . . . . . . . . . . : Media disconnected\n",
      "\n",
      "   Connection-specific DNS Suffix  . : \n",
      "\n",
      "\n",
      "\n",
      "Ethernet adapter VMware Network Adapter VMnet1:\n",
      "\n",
      "\n",
      "\n",
      "   Connection-specific DNS Suffix  . : \n",
      "\n",
      "   Link-local IPv6 Address . . . . . : fe80::a143:6fc2:91bb:7860%16\n",
      "\n",
      "   IPv4 Address. . . . . . . . . . . : 192.168.38.1\n",
      "\n",
      "   Subnet Mask . . . . . . . . . . . : 255.255.255.0\n",
      "\n",
      "   Default Gateway . . . . . . . . . : \n",
      "\n",
      "\n",
      "\n",
      "Ethernet adapter VMware Network Adapter VMnet8:\n",
      "\n",
      "\n",
      "\n",
      "   Connection-specific DNS Suffix  . : \n",
      "\n",
      "   Link-local IPv6 Address . . . . . : fe80::14d0:ba87:8833:32d0%15\n",
      "\n",
      "   IPv4 Address. . . . . . . . . . . : 192.168.59.1\n",
      "\n",
      "   Subnet Mask . . . . . . . . . . . : 255.255.255.0\n",
      "\n",
      "   Default Gateway . . . . . . . . . : \n",
      "\n",
      "\n",
      "\n",
      "Wireless LAN adapter Wi-Fi:\n",
      "\n",
      "\n",
      "\n",
      "   Connection-specific DNS Suffix  . : \n",
      "\n",
      "   Link-local IPv6 Address . . . . . : fe80::6e:ce17:be95:424a%5\n",
      "\n",
      "   IPv4 Address. . . . . . . . . . . : 192.168.43.66\n",
      "\n",
      "   Subnet Mask . . . . . . . . . . . : 255.255.255.0\n",
      "\n",
      "   Default Gateway . . . . . . . . . : 192.168.43.1\n",
      "\n",
      "\n",
      "\n",
      "Ethernet adapter Bluetooth Network Connection:\n",
      "\n",
      "\n",
      "\n",
      "   Media State . . . . . . . . . . . : Media disconnected\n",
      "\n",
      "   Connection-specific DNS Suffix  . : \n",
      "\n"
     ]
    }
   ],
   "source": [
    "for var in data:\n",
    "    print(var)"
   ]
  },
  {
   "cell_type": "code",
   "execution_count": null,
   "metadata": {},
   "outputs": [],
   "source": []
  }
 ],
 "metadata": {
  "kernelspec": {
   "display_name": "Python 3",
   "language": "python",
   "name": "python3"
  },
  "language_info": {
   "codemirror_mode": {
    "name": "ipython",
    "version": 3
   },
   "file_extension": ".py",
   "mimetype": "text/x-python",
   "name": "python",
   "nbconvert_exporter": "python",
   "pygments_lexer": "ipython3",
   "version": "3.7.3"
  }
 },
 "nbformat": 4,
 "nbformat_minor": 2
}
