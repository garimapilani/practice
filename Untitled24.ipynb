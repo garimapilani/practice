{
 "cells": [
  {
   "cell_type": "code",
   "execution_count": 10,
   "metadata": {},
   "outputs": [
    {
     "name": "stdout",
     "output_type": "stream",
     "text": [
      "enter no of lines5\n",
      "1 1 1 1 1 \n",
      "\n",
      "2 2 2 2 \n",
      "\n",
      "3 3 3 \n",
      "\n"
     ]
    }
   ],
   "source": [
    "n = int(input(\"enter no of lines\"))\n",
    "i = 1\n",
    "k = n\n",
    "while i<=(n//2)+1:\n",
    "    j=1\n",
    "    while j<=k:\n",
    "        print(i, end=\" \")\n",
    "        j+=1\n",
    "    print(\"\\n\")\n",
    "    k-=1\n",
    "    i+=1"
   ]
  },
  {
   "cell_type": "code",
   "execution_count": 9,
   "metadata": {},
   "outputs": [
    {
     "name": "stdout",
     "output_type": "stream",
     "text": [
      "enter no of lines: 5\n",
      "1 1 1 1 1 \n",
      "\n"
     ]
    }
   ],
   "source": [
    "n=int(input(\"enter no of lines: \"))\n",
    "i=1\n",
    "k=n\n",
    "if i<=(n//2)+1:\n",
    "    j=1\n",
    "    while j<=k:\n",
    "        print(i, end=\" \")\n",
    "        j+=1\n",
    "    print(\"\\n\")\n",
    "    k-=1\n",
    "    i+=1\n",
    "#else:\n",
    "    #i=-1\n",
    "   # while j<=k:\n",
    "          #  print(i, end=\" \")\n",
    "         #   j+=1\n",
    "    #print(\"\\n\")"
   ]
  },
  {
   "cell_type": "code",
   "execution_count": 12,
   "metadata": {},
   "outputs": [
    {
     "name": "stdout",
     "output_type": "stream",
     "text": [
      "enter base of triangle4\n",
      "enter height of triangle3\n",
      "6.0\n"
     ]
    }
   ],
   "source": [
    "b = int(input(\"enter base of triangle\"))\n",
    "h = int(input(\"enter height of triangle\"))\n",
    "area=0.5*b*h\n",
    "print(area)"
   ]
  },
  {
   "cell_type": "code",
   "execution_count": 13,
   "metadata": {},
   "outputs": [],
   "source": [
    "list.pop?"
   ]
  },
  {
   "cell_type": "code",
   "execution_count": 14,
   "metadata": {},
   "outputs": [],
   "source": [
    "def add(a=0, b=0):\n",
    "    return a+b"
   ]
  },
  {
   "cell_type": "code",
   "execution_count": 15,
   "metadata": {},
   "outputs": [
    {
     "name": "stdout",
     "output_type": "stream",
     "text": [
      "enter no 1: 3\n",
      "enter no 2: 4\n"
     ]
    },
    {
     "data": {
      "text/plain": [
       "7"
      ]
     },
     "execution_count": 15,
     "metadata": {},
     "output_type": "execute_result"
    }
   ],
   "source": [
    "a = int(input(\"enter no 1: \"))\n",
    "b = int(input(\"enter no 2: \"))\n",
    "add(a,b)"
   ]
  },
  {
   "cell_type": "code",
   "execution_count": null,
   "metadata": {},
   "outputs": [],
   "source": []
  }
 ],
 "metadata": {
  "kernelspec": {
   "display_name": "Python 3",
   "language": "python",
   "name": "python3"
  },
  "language_info": {
   "codemirror_mode": {
    "name": "ipython",
    "version": 3
   },
   "file_extension": ".py",
   "mimetype": "text/x-python",
   "name": "python",
   "nbconvert_exporter": "python",
   "pygments_lexer": "ipython3",
   "version": "3.7.3"
  }
 },
 "nbformat": 4,
 "nbformat_minor": 2
}
