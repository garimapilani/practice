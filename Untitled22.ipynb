{
 "cells": [
  {
   "cell_type": "code",
   "execution_count": 1,
   "metadata": {},
   "outputs": [],
   "source": [
    "t = (2, 3)\n",
    "a,b=t\n"
   ]
  },
  {
   "cell_type": "code",
   "execution_count": 2,
   "metadata": {},
   "outputs": [
    {
     "data": {
      "text/plain": [
       "2"
      ]
     },
     "execution_count": 2,
     "metadata": {},
     "output_type": "execute_result"
    }
   ],
   "source": [
    "a"
   ]
  },
  {
   "cell_type": "code",
   "execution_count": 3,
   "metadata": {},
   "outputs": [
    {
     "data": {
      "text/plain": [
       "3"
      ]
     },
     "execution_count": 3,
     "metadata": {},
     "output_type": "execute_result"
    }
   ],
   "source": [
    "b"
   ]
  },
  {
   "cell_type": "code",
   "execution_count": 7,
   "metadata": {},
   "outputs": [
    {
     "data": {
      "text/plain": [
       "tuple"
      ]
     },
     "execution_count": 7,
     "metadata": {},
     "output_type": "execute_result"
    }
   ],
   "source": [
    "a = 1,2,3\n",
    "type(a)\n",
    "ll = "
   ]
  },
  {
   "cell_type": "code",
   "execution_count": 11,
   "metadata": {},
   "outputs": [
    {
     "name": "stdout",
     "output_type": "stream",
     "text": [
      "37 = 1369\n",
      "35 = 1225\n",
      "99 = 9801\n",
      "44 = 1936\n",
      "53 = 2809\n",
      "97 = 9409\n",
      "10 = 100\n",
      "61 = 3721\n",
      "9 = 81\n",
      "82 = 6724\n"
     ]
    }
   ],
   "source": [
    "from random import randint\n",
    "l = []\n",
    "for i in range(10):\n",
    "    l.append(randint(1, 100))\n",
    "for var in l:\n",
    "    print(f\"{var} = {var*var}\")"
   ]
  },
  {
   "cell_type": "code",
   "execution_count": 14,
   "metadata": {},
   "outputs": [
    {
     "data": {
      "text/plain": [
       "[1369, 1225, 9801, 1936, 2809, 9409, 100, 3721, 81, 6724]"
      ]
     },
     "execution_count": 14,
     "metadata": {},
     "output_type": "execute_result"
    }
   ],
   "source": [
    "rlist = [var*var for var in l]\n",
    "rlist"
   ]
  },
  {
   "cell_type": "code",
   "execution_count": 1,
   "metadata": {},
   "outputs": [
    {
     "name": "stdout",
     "output_type": "stream",
     "text": [
      "enter the value on {r}-{c} -->2\n",
      "enter the value on {r}-{c} -->3\n",
      "enter the value on {r}-{c} -->4\n",
      "enter the value on {r}-{c} -->5\n",
      "enter the value on {r}-{c} -->6\n",
      "enter the value on {r}-{c} -->7\n",
      "enter the value on {r}-{c} -->8\n",
      "enter the value on {r}-{c} -->9\n",
      "enter the value on {r}-{c} -->10\n"
     ]
    },
    {
     "data": {
      "text/plain": [
       "[[2, 3, 4], [5, 6, 7], [8, 9, 10]]"
      ]
     },
     "execution_count": 1,
     "metadata": {},
     "output_type": "execute_result"
    }
   ],
   "source": [
    "matrix = []\n",
    "for r in range(3):\n",
    "    row = []\n",
    "    for c in range(3):\n",
    "        row.append(int(input(\"enter the value on {r}-{c} -->\")))\n",
    "    matrix.append(row)\n",
    "matrix"
   ]
  },
  {
   "cell_type": "code",
   "execution_count": 5,
   "metadata": {},
   "outputs": [
    {
     "data": {
      "text/plain": [
       "[[2, 5, 8], [3, 6, 9], [4, 7, 10]]"
      ]
     },
     "execution_count": 5,
     "metadata": {},
     "output_type": "execute_result"
    }
   ],
   "source": [
    "tmat = []\n",
    "for c in range(3):\n",
    "    t = []\n",
    "    for r in range(3):\n",
    "        t.append(matrix[r][c])\n",
    "    tmat.append(t)\n",
    "tmat"
   ]
  },
  {
   "cell_type": "code",
   "execution_count": 6,
   "metadata": {},
   "outputs": [
    {
     "data": {
      "text/plain": [
       "[[4, 8, 12], [8, 12, 16], [12, 16, 20]]"
      ]
     },
     "execution_count": 6,
     "metadata": {},
     "output_type": "execute_result"
    }
   ],
   "source": [
    "madd = []\n",
    "for r in range(3):\n",
    "    t = []\n",
    "    for c in range(3):\n",
    "        t.append(matrix[r][c]+tmat[r][c])\n",
    "    madd.append(t)\n",
    "madd"
   ]
  },
  {
   "cell_type": "code",
   "execution_count": null,
   "metadata": {},
   "outputs": [],
   "source": []
  }
 ],
 "metadata": {
  "kernelspec": {
   "display_name": "Python 3",
   "language": "python",
   "name": "python3"
  },
  "language_info": {
   "codemirror_mode": {
    "name": "ipython",
    "version": 3
   },
   "file_extension": ".py",
   "mimetype": "text/x-python",
   "name": "python",
   "nbconvert_exporter": "python",
   "pygments_lexer": "ipython3",
   "version": "3.7.3"
  }
 },
 "nbformat": 4,
 "nbformat_minor": 2
}
