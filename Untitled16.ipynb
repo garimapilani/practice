{
 "cells": [
  {
   "cell_type": "markdown",
   "metadata": {},
   "source": [
    "ans 1.\n",
    "Escape characters are characters that are generally used to perform certain tasks and their usage in code directs the compiler to take a suitable action mapped to that character.\n",
    "\n",
    "\\ \\\\ \\n \\t\n",
    "\n",
    "\n",
    "ans 2.\n",
    "\\n -> line feed\n",
    "\\t -> tab space\n",
    "\n",
    "ans  3.\n",
    "by putting them in \"\"\n",
    "eg foo = 'baz \"\\\"'\n",
    "\n",
    "ans 6.\n",
    "a. 'e'\n",
    "b. 'hello'\n",
    "c. 'hello'\n",
    "d. 'lo world!'\n",
    "\n",
    "ans 7.\n",
    "a. 'HELLO'\n",
    "b. True\n",
    "c. 'hello'\n",
    "\n",
    "ans 8.\n",
    "a. ['Remember,', 'remember,', 'the', 'fifth', 'of', 'November.']\n",
    "b. 'There-can-be-only-one.'\n",
    "\n"
   ]
  }
 ],
 "metadata": {
  "kernelspec": {
   "display_name": "Python 3",
   "language": "python",
   "name": "python3"
  },
  "language_info": {
   "codemirror_mode": {
    "name": "ipython",
    "version": 3
   },
   "file_extension": ".py",
   "mimetype": "text/x-python",
   "name": "python",
   "nbconvert_exporter": "python",
   "pygments_lexer": "ipython3",
   "version": "3.7.3"
  }
 },
 "nbformat": 4,
 "nbformat_minor": 2
}
